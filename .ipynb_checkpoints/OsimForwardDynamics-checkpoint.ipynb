{
 "cells": [
  {
   "cell_type": "code",
   "execution_count": 1,
   "id": "29d0de4a",
   "metadata": {},
   "outputs": [],
   "source": [
    "import opensim as osim\n",
    "import numpy as np\n",
    "import os"
   ]
  },
  {
   "cell_type": "code",
   "execution_count": 21,
   "id": "99474639",
   "metadata": {},
   "outputs": [
    {
     "data": {
      "text/plain": [
       "\"\\nbodNames = osim.ArrayStr()\\nbodSet.getNames(bodNames)\\nprint(bodNames.getitem(0))\\nclavicle = bodSet.get(0)\\nclavicle.attachGeometry(mesh1)\\nvisualizer = osim.VisualizerUtilities\\n\\nvisualizer.showModel(model)\\n\\n#Instantiate forward dynamics tool and load with activations and model\\n#forwardDyn = osim.ForwardTool(f'{current_path}/GripForceSimulationResults/Flexed_Posture/grip_strength_controls.sto', True, False)\\n#forwardDyn.setModel(model)\\n\\n#Set forward dyn options\\n#forwardDyn.setInitialTime()\""
      ]
     },
     "execution_count": 21,
     "metadata": {},
     "output_type": "execute_result"
    }
   ],
   "source": [
    "#Load model and necessary geometries\n",
    "current_path = os.getcwd()\n",
    "geometries_path = current_path + '\\Geometry'\n",
    "#mesh1 = osim.Mesh(f'{geometries_path}\\clavicle.vtp')\n",
    "model = osim.Model(f'{current_path}\\GripForceModels\\Grip_Model_Neutral.osim')\n",
    "bodSet = model.getBodySet()\n",
    "#model.setUseVisualizer(True)\n",
    "model.initSystem()\n",
    "#modelViz = model.getVisualizer()\n",
    "\n",
    "#modelViz.addDirToGeometrySearchPaths(geometries_path)\n",
    "\n",
    "visualizer = osim.VisualizerUtilities\n",
    "visualizer.showModel(model)\n",
    "\n",
    "'''\n",
    "bodNames = osim.ArrayStr()\n",
    "bodSet.getNames(bodNames)\n",
    "print(bodNames.getitem(0))\n",
    "clavicle = bodSet.get(0)\n",
    "clavicle.attachGeometry(mesh1)\n",
    "visualizer = osim.VisualizerUtilities\n",
    "\n",
    "visualizer.showModel(model)\n",
    "\n",
    "#Instantiate forward dynamics tool and load with activations and model\n",
    "#forwardDyn = osim.ForwardTool(f'{current_path}/GripForceSimulationResults/Flexed_Posture/grip_strength_controls.sto', True, False)\n",
    "#forwardDyn.setModel(model)\n",
    "\n",
    "#Set forward dyn options\n",
    "#forwardDyn.setInitialTime()'''"
   ]
  },
  {
   "cell_type": "code",
   "execution_count": null,
   "id": "6dbc46ac",
   "metadata": {},
   "outputs": [],
   "source": []
  }
 ],
 "metadata": {
  "kernelspec": {
   "display_name": "Python 3 (ipykernel)",
   "language": "python",
   "name": "python3"
  },
  "language_info": {
   "codemirror_mode": {
    "name": "ipython",
    "version": 3
   },
   "file_extension": ".py",
   "mimetype": "text/x-python",
   "name": "python",
   "nbconvert_exporter": "python",
   "pygments_lexer": "ipython3",
   "version": "3.9.16"
  }
 },
 "nbformat": 4,
 "nbformat_minor": 5
}
